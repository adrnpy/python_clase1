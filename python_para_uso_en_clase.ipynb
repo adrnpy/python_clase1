{
  "cells": [
    {
      "cell_type": "markdown",
      "id": "30c38c60",
      "metadata": {
        "id": "30c38c60"
      },
      "source": [
        "# Comentarios"
      ]
    },
    {
      "cell_type": "markdown",
      "id": "89b7f4c7",
      "metadata": {
        "id": "89b7f4c7"
      },
      "source": [
        "**Recuerda!!!** los comentarios no se ejecutan y nos ayudan a documentar todo lo que hacemos.\n",
        "\n",
        "Esto es muy útil cuando escribimos muchas lineas o bien cuando trabajamos en equipo y necesitamos que los demás entiendan lo que hicimos\n",
        "\n",
        "**Tip**: Trata de no abusar con su uso"
      ]
    },
    {
      "cell_type": "code",
      "execution_count": null,
      "id": "a0fad33a",
      "metadata": {
        "id": "a0fad33a"
      },
      "outputs": [],
      "source": [
        "#Creamos nuestra primera linea de codigo en Python!!!\n",
        "saludo='Bienvenido al curso de Python' #mensaje de bienvenida para los nuevos estudiantes"
      ]
    },
    {
      "cell_type": "code",
      "execution_count": null,
      "id": "79a12d4b",
      "metadata": {
        "id": "79a12d4b"
      },
      "outputs": [],
      "source": [
        "#Cuando queremos imprimir el valor de una variable podemos usar la función print()\n",
        "print(saludo)"
      ]
    },
    {
      "cell_type": "markdown",
      "id": "f39aebb0",
      "metadata": {
        "id": "f39aebb0"
      },
      "source": [
        "---"
      ]
    },
    {
      "cell_type": "markdown",
      "id": "9a052827",
      "metadata": {
        "id": "9a052827"
      },
      "source": [
        "# Variables"
      ]
    },
    {
      "cell_type": "markdown",
      "id": "c05bf679",
      "metadata": {
        "id": "c05bf679"
      },
      "source": [
        "Recuerda que las variables tienen las siguientes características:\n",
        "* Caracteres permitidos “A” a la “z”, “0” a “9” y “_”\n",
        "* No pueden empezar con números\n",
        "* No necesitan ser declaradas por adelantado\n",
        "* Son **case sensitive**\n",
        "* Son de tipado dinámico\n",
        "* No pueden usar nombres de palabras reservadas\n",
        "* Podemos imprimir el contenido de la variable usando la función print()\n",
        "* Por convencion las variables con nombres compuestos deben ser escritos en minusculas usando _ como separador\n",
        "\n",
        "__Recomendación: Cuando crees las variables asegurate que tengan un nombre acorde a lo que deseas guardar__"
      ]
    },
    {
      "cell_type": "code",
      "execution_count": null,
      "id": "fdbb6bfb",
      "metadata": {
        "id": "fdbb6bfb"
      },
      "outputs": [],
      "source": [
        "ingresosDeclarados=15000"
      ]
    },
    {
      "cell_type": "code",
      "execution_count": null,
      "id": "40f01fbf",
      "metadata": {
        "id": "40f01fbf"
      },
      "outputs": [],
      "source": [
        "INGRESOSDECLARADOS=20000"
      ]
    },
    {
      "cell_type": "code",
      "execution_count": null,
      "id": "2ef27dd8",
      "metadata": {
        "id": "2ef27dd8"
      },
      "outputs": [],
      "source": [
        "ingresos_declarados=30000"
      ]
    },
    {
      "cell_type": "code",
      "execution_count": null,
      "id": "79721f58",
      "metadata": {
        "id": "79721f58"
      },
      "outputs": [],
      "source": [
        "print(ingresosDeclarados,INGRESOSDECLARADOS,ingresos_declarados)"
      ]
    },
    {
      "cell_type": "markdown",
      "source": [
        "#### **Referencia de variables**"
      ],
      "metadata": {
        "id": "kDOcBIdEEBIa"
      },
      "id": "kDOcBIdEEBIa"
    },
    {
      "cell_type": "code",
      "execution_count": null,
      "id": "c68835c2",
      "metadata": {
        "id": "c68835c2"
      },
      "outputs": [],
      "source": [
        "edad=25\n",
        "print(id(edad))"
      ]
    },
    {
      "cell_type": "code",
      "execution_count": null,
      "id": "d7a10152",
      "metadata": {
        "id": "d7a10152"
      },
      "outputs": [],
      "source": [
        "edad=30\n",
        "print(id(edad))"
      ]
    },
    {
      "cell_type": "code",
      "execution_count": null,
      "id": "7e08f43f",
      "metadata": {
        "id": "7e08f43f"
      },
      "outputs": [],
      "source": [
        "edad2=30\n",
        "print(id(edad2))"
      ]
    },
    {
      "cell_type": "code",
      "execution_count": null,
      "id": "ad7145c2",
      "metadata": {
        "id": "ad7145c2"
      },
      "outputs": [],
      "source": [
        "edad=35\n",
        "print(id(edad))"
      ]
    },
    {
      "cell_type": "code",
      "execution_count": null,
      "id": "f350fbf1",
      "metadata": {
        "id": "f350fbf1"
      },
      "outputs": [],
      "source": [
        "print(id(edad2))"
      ]
    },
    {
      "cell_type": "code",
      "execution_count": null,
      "id": "ebb50f14",
      "metadata": {
        "id": "ebb50f14"
      },
      "outputs": [],
      "source": [
        "print(edad,edad2)"
      ]
    },
    {
      "cell_type": "code",
      "execution_count": null,
      "id": "f7a1dcde",
      "metadata": {
        "id": "f7a1dcde"
      },
      "outputs": [],
      "source": [
        "del edad2"
      ]
    },
    {
      "cell_type": "code",
      "execution_count": null,
      "id": "7b68b30c",
      "metadata": {
        "id": "7b68b30c"
      },
      "outputs": [],
      "source": [
        "print(edad,edad2)"
      ]
    },
    {
      "cell_type": "code",
      "execution_count": null,
      "id": "39306b56",
      "metadata": {
        "id": "39306b56"
      },
      "outputs": [],
      "source": [
        "print(edad)"
      ]
    },
    {
      "cell_type": "code",
      "execution_count": null,
      "id": "0228c320",
      "metadata": {
        "id": "0228c320"
      },
      "outputs": [],
      "source": [
        "1edad=35"
      ]
    },
    {
      "cell_type": "code",
      "execution_count": null,
      "id": "70849ca9",
      "metadata": {
        "id": "70849ca9"
      },
      "outputs": [],
      "source": [
        "#variable edad1 guarda el valor de la edad\n",
        "edad1=35"
      ]
    },
    {
      "cell_type": "code",
      "execution_count": null,
      "id": "60566d96",
      "metadata": {
        "id": "60566d96"
      },
      "outputs": [],
      "source": [
        "%who"
      ]
    },
    {
      "cell_type": "code",
      "execution_count": null,
      "id": "29903578",
      "metadata": {
        "id": "29903578"
      },
      "outputs": [],
      "source": [
        "#verificación de las variables\n",
        "%whos"
      ]
    },
    {
      "cell_type": "code",
      "execution_count": null,
      "id": "724c4c96",
      "metadata": {
        "id": "724c4c96"
      },
      "outputs": [],
      "source": [
        "help(print)"
      ]
    },
    {
      "cell_type": "markdown",
      "id": "ba21a69d",
      "metadata": {
        "id": "ba21a69d"
      },
      "source": [
        "1. Crea las siguentes variables `nombre`, `apellido` y `edad` y asignale tus datos personales"
      ]
    },
    {
      "cell_type": "code",
      "execution_count": null,
      "id": "81e74417",
      "metadata": {
        "id": "81e74417"
      },
      "outputs": [],
      "source": [
        "nombre='Juan'\n",
        "apellido='Bazán'\n",
        "edad=36"
      ]
    },
    {
      "cell_type": "markdown",
      "id": "aae08ff1",
      "metadata": {
        "id": "aae08ff1"
      },
      "source": [
        "2. Imprime el contenido de las 3 variables"
      ]
    },
    {
      "cell_type": "code",
      "execution_count": null,
      "id": "b5150a27",
      "metadata": {
        "id": "b5150a27"
      },
      "outputs": [],
      "source": [
        "print(nombre)\n",
        "print(apellido)\n",
        "print(edad)"
      ]
    },
    {
      "cell_type": "markdown",
      "id": "0dc60317",
      "metadata": {
        "id": "0dc60317"
      },
      "source": [
        "3.Crea las siguentes variables `Nombre`, `Apellido` y `Edad` y asignale  los datos de algún/a amigo/a"
      ]
    },
    {
      "cell_type": "code",
      "execution_count": null,
      "id": "c42a4f46",
      "metadata": {
        "id": "c42a4f46"
      },
      "outputs": [],
      "source": [
        "Nombre,Apellido,Edad='Jose','Gini',36"
      ]
    },
    {
      "cell_type": "code",
      "execution_count": null,
      "id": "b9435ce0",
      "metadata": {
        "id": "b9435ce0"
      },
      "outputs": [],
      "source": [
        "NOMBRE='JUAN'\n",
        "APELLIDO='BAZAN'"
      ]
    },
    {
      "cell_type": "code",
      "execution_count": null,
      "id": "a1deb4c5",
      "metadata": {
        "id": "a1deb4c5"
      },
      "outputs": [],
      "source": [
        "print(NOMBRE)\n",
        "print(APELLIDO)"
      ]
    },
    {
      "cell_type": "code",
      "execution_count": null,
      "id": "22e22f42",
      "metadata": {
        "id": "22e22f42"
      },
      "outputs": [],
      "source": [
        "print(Nombre)\n",
        "print(Apellido)\n",
        "print(Edad)"
      ]
    },
    {
      "cell_type": "markdown",
      "id": "6eed808b",
      "metadata": {
        "id": "6eed808b"
      },
      "source": [
        "4. Verifica si las variables nombre y Nombre apuntan a la misma dirección en memoria"
      ]
    },
    {
      "cell_type": "code",
      "execution_count": null,
      "id": "d7a4ffbf",
      "metadata": {
        "id": "d7a4ffbf"
      },
      "outputs": [],
      "source": [
        "#Tip: Recuerda que puedes usar la función id()\n",
        "print(id(nombre))\n",
        "print(id(Nombre))"
      ]
    },
    {
      "cell_type": "code",
      "execution_count": null,
      "id": "da6f717a",
      "metadata": {
        "id": "da6f717a"
      },
      "outputs": [],
      "source": [
        "valor1=25 #Entero\n",
        "valor2=25.0 #flotante\n",
        "valor3='25' #String\n",
        "valor4='25.0' #String"
      ]
    },
    {
      "cell_type": "code",
      "execution_count": null,
      "id": "12cfe708",
      "metadata": {
        "id": "12cfe708"
      },
      "outputs": [],
      "source": [
        "print(valor1,valor2,valor3,valor4)"
      ]
    },
    {
      "cell_type": "code",
      "execution_count": null,
      "id": "56c43b14",
      "metadata": {
        "id": "56c43b14"
      },
      "outputs": [],
      "source": [
        "print(type(valor1),type(valor2),type(valor3),type(valor4))"
      ]
    },
    {
      "cell_type": "markdown",
      "id": "ab210f2f",
      "metadata": {
        "id": "ab210f2f"
      },
      "source": [
        "5. Crea una variable `cita`, que contenga la siguiente frase \"Un gran poder conlleva una gran responsabilidad\""
      ]
    },
    {
      "cell_type": "code",
      "execution_count": null,
      "id": "f1967d91",
      "metadata": {
        "id": "f1967d91"
      },
      "outputs": [],
      "source": []
    },
    {
      "cell_type": "markdown",
      "id": "9edcf05e",
      "metadata": {
        "id": "9edcf05e"
      },
      "source": [
        "6. Declaramos varias variables en una sola linea, para este caso volveremos a asignar valores a nuestras variables nombre, apellido, edad. En este caso puedes cargar los datos con los nombres otro/a amigo/a"
      ]
    },
    {
      "cell_type": "code",
      "execution_count": null,
      "id": "6de83cae",
      "metadata": {
        "id": "6de83cae"
      },
      "outputs": [],
      "source": []
    },
    {
      "cell_type": "markdown",
      "id": "fde28867",
      "metadata": {
        "id": "fde28867"
      },
      "source": [
        "7. Imprime el resultado de las 3 variables declaradas previamente"
      ]
    },
    {
      "cell_type": "code",
      "execution_count": null,
      "id": "9868e44a",
      "metadata": {
        "id": "9868e44a"
      },
      "outputs": [],
      "source": []
    },
    {
      "cell_type": "markdown",
      "id": "28518d6c",
      "metadata": {
        "id": "28518d6c"
      },
      "source": [
        "### Inspección de variables"
      ]
    },
    {
      "cell_type": "markdown",
      "id": "cca295cc",
      "metadata": {
        "id": "cca295cc"
      },
      "source": [
        "Python nos ofrece la posibilidad de revisar las variables que tenemos declaradas en nuestro Kernel usando los comandos\n",
        "\n",
        "* `%who`: nos permite revisar los nombres de las variables que tenemos en memoria\n",
        "* `%whos`: nos permite ver más información a detallde sobre las variables como ser el tipo de dato y el valor que contienen"
      ]
    },
    {
      "cell_type": "markdown",
      "id": "2513c05a",
      "metadata": {
        "id": "2513c05a"
      },
      "source": [
        "1. Verifica las variables cargadas en memoria"
      ]
    },
    {
      "cell_type": "code",
      "execution_count": null,
      "id": "7b8548b4",
      "metadata": {
        "id": "7b8548b4"
      },
      "outputs": [],
      "source": []
    },
    {
      "cell_type": "markdown",
      "id": "5a9f6a87",
      "metadata": {
        "id": "5a9f6a87"
      },
      "source": [
        "2. Verifica toda la información disponible sobre las variables cargadas en memoria"
      ]
    },
    {
      "cell_type": "code",
      "execution_count": null,
      "id": "04a68109",
      "metadata": {
        "id": "04a68109"
      },
      "outputs": [],
      "source": []
    },
    {
      "cell_type": "markdown",
      "id": "60284c3d",
      "metadata": {
        "id": "60284c3d"
      },
      "source": [
        "---"
      ]
    },
    {
      "cell_type": "markdown",
      "id": "a92d3458",
      "metadata": {
        "id": "a92d3458"
      },
      "source": [
        "# Tipos de datos"
      ]
    },
    {
      "cell_type": "markdown",
      "id": "c32d3223",
      "metadata": {
        "id": "c32d3223"
      },
      "source": [
        "## Numéricos"
      ]
    },
    {
      "cell_type": "markdown",
      "id": "5c8d6172",
      "metadata": {
        "id": "5c8d6172"
      },
      "source": [
        "Con los tipos de datos numéricos podemos representar números:\n",
        "* `int`: Enteros\n",
        "* `float`:Flotantes"
      ]
    },
    {
      "cell_type": "markdown",
      "id": "ee31a821",
      "metadata": {
        "id": "ee31a821"
      },
      "source": [
        "1. Crea la variable **entero** y asignale el valor de 10"
      ]
    },
    {
      "cell_type": "code",
      "execution_count": null,
      "id": "2526a5ca",
      "metadata": {
        "id": "2526a5ca"
      },
      "outputs": [],
      "source": []
    },
    {
      "cell_type": "markdown",
      "id": "d41377b8",
      "metadata": {
        "id": "d41377b8"
      },
      "source": [
        "2. Crea la variable **flotante** y asignale el valor de 20.0"
      ]
    },
    {
      "cell_type": "code",
      "execution_count": null,
      "id": "7606c797",
      "metadata": {
        "id": "7606c797"
      },
      "outputs": [],
      "source": []
    },
    {
      "cell_type": "markdown",
      "id": "1326f1fa",
      "metadata": {
        "id": "1326f1fa"
      },
      "source": [
        "3.Crea la variable **otro_flotante** y asignale el valor de 30."
      ]
    },
    {
      "cell_type": "code",
      "execution_count": null,
      "id": "f3e77e13",
      "metadata": {
        "id": "f3e77e13"
      },
      "outputs": [],
      "source": []
    },
    {
      "cell_type": "markdown",
      "id": "9cb87853",
      "metadata": {
        "id": "9cb87853"
      },
      "source": [
        "4. Verifica el tipo de dato de cada variable creada anteriormente"
      ]
    },
    {
      "cell_type": "code",
      "execution_count": null,
      "id": "dcb8e2a9",
      "metadata": {
        "id": "dcb8e2a9"
      },
      "outputs": [],
      "source": []
    },
    {
      "cell_type": "markdown",
      "id": "7196fbe7",
      "metadata": {
        "id": "7196fbe7"
      },
      "source": [
        "## Strings"
      ]
    },
    {
      "cell_type": "markdown",
      "id": "b5addb99",
      "metadata": {
        "id": "b5addb99"
      },
      "source": [
        "Con el tipo de dato String `str`, podemos representar cualquier texto que necesitemos.\n",
        "\n",
        "Lo más común a la hora de declarar variables strings es usar  `' '` o `\" \"`\n",
        "\n",
        "Recuerda que Python tiene caracteres de escape como ser:\n",
        "\n",
        "|Caracter|Acción|\n",
        "|---------|----------|\n",
        "|`\\\\`| Agrega una \\|\n",
        "|`\\'`|Agrega una comilla simple|\n",
        "|`\\\"`|Agrega una comilla doble|\n",
        "|`\\n`|Agrega un salto de linea|\n",
        "|`\\t`|Agrega una tabulación horizontal|\n",
        "\n",
        "En el siguiente [enlace](https://docs.python.org/2.0/ref/strings.html) podras encontrar más información sobre los caracteres de escape"
      ]
    },
    {
      "cell_type": "markdown",
      "id": "3f5cba63",
      "metadata": {
        "id": "3f5cba63"
      },
      "source": [
        "1. Crea la varible **nuevo_saludo** y asignale el valor **Hola Mundo!**"
      ]
    },
    {
      "cell_type": "code",
      "execution_count": null,
      "id": "a1633400",
      "metadata": {
        "id": "a1633400"
      },
      "outputs": [],
      "source": []
    },
    {
      "cell_type": "markdown",
      "id": "725977bf",
      "metadata": {
        "id": "725977bf"
      },
      "source": [
        "2.Crea la variable **ultima_frase** y asignale la cita **La ultima frase de Iron Man fue:\"Yo soy Iron Man\"**"
      ]
    },
    {
      "cell_type": "code",
      "execution_count": null,
      "id": "5ccb4b29",
      "metadata": {
        "id": "5ccb4b29"
      },
      "outputs": [],
      "source": []
    },
    {
      "cell_type": "markdown",
      "id": "a4204290",
      "metadata": {
        "id": "a4204290"
      },
      "source": [
        "3. Crea la variable **salto** y asignale el valor Linea 1 Linea 2 Linea 3 y haz que se impriman en lineas diferentes"
      ]
    },
    {
      "cell_type": "code",
      "execution_count": null,
      "id": "d347d45f",
      "metadata": {
        "id": "d347d45f"
      },
      "outputs": [],
      "source": []
    },
    {
      "cell_type": "markdown",
      "id": "89edabf0",
      "metadata": {
        "id": "89edabf0"
      },
      "source": [
        "4. Usando caracteres de escape imprime la siguiente cita **“Locura es hacer lo mismo una y otra vez esperando obtener resultados diferentes”**"
      ]
    },
    {
      "cell_type": "code",
      "execution_count": null,
      "id": "d5021aed",
      "metadata": {
        "id": "d5021aed"
      },
      "outputs": [],
      "source": []
    },
    {
      "cell_type": "markdown",
      "id": "afbe95ff",
      "metadata": {
        "id": "afbe95ff"
      },
      "source": [
        "### Métodos"
      ]
    },
    {
      "cell_type": "markdown",
      "id": "2a068f0f",
      "metadata": {
        "id": "2a068f0f"
      },
      "source": [
        "Python nos ofrece algunos metodos que podemos utilizar cuando trabajamos con texto como ser:\n",
        "* `.lower()`: para convertir el texto a minúsculas\n",
        "* `.upper()`: para convertir el texto a mayúsculas\n",
        "* `.title()`: para convertir las primeras letras de cada palabra a mayúsculas\n",
        "* `.capitalize()`: para convertir la primera letra del texto a mayúscula\n",
        "* `.swapcase()`: para reemplazar las minúsculas por mayúsculas y viceversa\n",
        "* `.strip()`: para quitar los espacios en blanco, tanto al inicio como final de string"
      ]
    },
    {
      "cell_type": "code",
      "execution_count": null,
      "id": "07e3f535",
      "metadata": {
        "id": "07e3f535"
      },
      "outputs": [],
      "source": [
        "prueba='prueba de conversión    '#Con esta variable vamos a probar algunos métodos que podemos realizar con los strings"
      ]
    },
    {
      "cell_type": "code",
      "execution_count": null,
      "id": "6122c190",
      "metadata": {
        "id": "6122c190"
      },
      "outputs": [],
      "source": []
    },
    {
      "cell_type": "markdown",
      "id": "9457b920",
      "metadata": {
        "id": "9457b920"
      },
      "source": [
        "1. Quital los espacios en blanco que tenemos al final de la oración"
      ]
    },
    {
      "cell_type": "code",
      "execution_count": null,
      "id": "c73a6381",
      "metadata": {
        "id": "c73a6381"
      },
      "outputs": [],
      "source": []
    },
    {
      "cell_type": "markdown",
      "id": "5ec47f7b",
      "metadata": {
        "id": "5ec47f7b"
      },
      "source": [
        "2. Convierte todas las letras a mayúsculas"
      ]
    },
    {
      "cell_type": "code",
      "execution_count": null,
      "id": "cb433afa",
      "metadata": {
        "id": "cb433afa"
      },
      "outputs": [],
      "source": []
    },
    {
      "cell_type": "markdown",
      "id": "02234ee0",
      "metadata": {
        "id": "02234ee0"
      },
      "source": [
        "3. Intenta cambiar los espacios en blanco por guiones bajos `_`"
      ]
    },
    {
      "cell_type": "code",
      "execution_count": null,
      "id": "2f80e1b8",
      "metadata": {
        "id": "2f80e1b8"
      },
      "outputs": [],
      "source": [
        "cargo = \"Analista de Datos\"\n",
        "salario = 800\n",
        "\n",
        "print(f'El salario de un {cargo} es de {salario}USD aproximadamente')"
      ]
    },
    {
      "cell_type": "markdown",
      "id": "a6822aaf",
      "metadata": {
        "id": "a6822aaf"
      },
      "source": [
        "### Slicing"
      ]
    },
    {
      "cell_type": "markdown",
      "id": "fbbb677d",
      "metadata": {
        "id": "fbbb677d"
      },
      "source": [
        "Gracias al slicing seremos capaces de poder cortar una cadena de texto según necesitemos"
      ]
    },
    {
      "cell_type": "code",
      "execution_count": null,
      "id": "09319b4a",
      "metadata": {
        "id": "09319b4a"
      },
      "outputs": [],
      "source": [
        "cadena='Bienvenido al curso de Python   '"
      ]
    },
    {
      "cell_type": "markdown",
      "id": "91abbd8a",
      "metadata": {
        "id": "91abbd8a"
      },
      "source": [
        "1. Imprime el contenido que tiene la variable `cadena`, sacando los espacios en blanco adicionales que tiene"
      ]
    },
    {
      "cell_type": "code",
      "execution_count": null,
      "id": "52284008",
      "metadata": {
        "id": "52284008"
      },
      "outputs": [],
      "source": [
        "cadena.strip()[cadena.find('curso'):]"
      ]
    },
    {
      "cell_type": "markdown",
      "id": "7b95e14f",
      "metadata": {
        "id": "7b95e14f"
      },
      "source": [
        "2. Dada la variable `cadena` crea una nueva variable llamada `curso` y asignale el valor 'curso de Python'"
      ]
    },
    {
      "cell_type": "code",
      "execution_count": null,
      "id": "847aff06",
      "metadata": {
        "id": "847aff06"
      },
      "outputs": [],
      "source": [
        "lenguaje = cadena.strip()[cadena.find('Python'):]\n",
        "print(lenguaje)"
      ]
    },
    {
      "cell_type": "markdown",
      "id": "25903bc8",
      "metadata": {
        "id": "25903bc8"
      },
      "source": [
        "3. Dada la variable `cadena` crea una nueva variable llamada `lenguaje` y asignale el valor 'Python'"
      ]
    },
    {
      "cell_type": "markdown",
      "id": "f9c91587",
      "metadata": {
        "id": "f9c91587"
      },
      "source": [
        "4. Imprime la varible `lenguaje` pero del reves, el resultado debe ser **nohtyP**"
      ]
    },
    {
      "cell_type": "code",
      "execution_count": null,
      "id": "cf0f0a25",
      "metadata": {
        "id": "cf0f0a25"
      },
      "outputs": [],
      "source": [
        "lenguaje[::-1        ]"
      ]
    },
    {
      "cell_type": "markdown",
      "id": "34104326",
      "metadata": {
        "id": "34104326"
      },
      "source": [
        "### f-strings"
      ]
    },
    {
      "cell_type": "markdown",
      "id": "1ab75e0a",
      "metadata": {
        "id": "1ab75e0a"
      },
      "source": [
        "Las `f-string` (Formatted string literals) se construyen como una cadena de texto normal en Python, pero precedidas de una f o F. Lo que hace que sea posible interpolar código encerrando este en llaves ({}) dentro de la cadena."
      ]
    },
    {
      "cell_type": "code",
      "execution_count": null,
      "id": "bec59bff",
      "metadata": {
        "id": "bec59bff"
      },
      "outputs": [],
      "source": [
        "cargo='Analista de datos'\n",
        "salario=800\n"
      ]
    },
    {
      "cell_type": "code",
      "execution_count": null,
      "id": "1503c54f",
      "metadata": {
        "id": "1503c54f"
      },
      "outputs": [],
      "source": [
        "cargo='Cientifico de datos'\n",
        "salario=2000\n"
      ]
    },
    {
      "cell_type": "markdown",
      "id": "713539ad",
      "metadata": {
        "id": "713539ad"
      },
      "source": [
        "Inclusive podemos usar dar formarto al número"
      ]
    },
    {
      "cell_type": "code",
      "execution_count": null,
      "id": "2fa74181",
      "metadata": {
        "id": "2fa74181"
      },
      "outputs": [],
      "source": [
        "numero=0.250980\n",
        "print(f'A la fecha se lleva ejecutado el {numero:.4f} del presupuesto')\n",
        "print(F'A la fecha se lleva ejecutado el {numero:.2%} del presupuesto')"
      ]
    },
    {
      "cell_type": "markdown",
      "id": "2659c115",
      "metadata": {
        "id": "2659c115"
      },
      "source": [
        "##  Boleanos"
      ]
    },
    {
      "cell_type": "markdown",
      "id": "43b79522",
      "metadata": {
        "id": "43b79522"
      },
      "source": [
        "Con los boleanos podemos representar los valores `True` o `False`\n",
        "\n",
        "* Los valores `True` son representados por 1\n",
        "* Los valores `False` son representados por 0"
      ]
    },
    {
      "cell_type": "markdown",
      "id": "ae0ea54a",
      "metadata": {
        "id": "ae0ea54a"
      },
      "source": [
        "1. Crea una variable llamada `mascota` y asignale el valor `True` en caso que tengas una o `False` en caso que no tengas"
      ]
    },
    {
      "cell_type": "code",
      "execution_count": null,
      "id": "e30dfca6",
      "metadata": {
        "id": "e30dfca6"
      },
      "outputs": [],
      "source": []
    },
    {
      "cell_type": "markdown",
      "id": "3e19c545",
      "metadata": {
        "id": "3e19c545"
      },
      "source": [
        "2. Imprime el valor de la variable `mascota`"
      ]
    },
    {
      "cell_type": "code",
      "execution_count": null,
      "id": "7f1b780f",
      "metadata": {
        "id": "7f1b780f"
      },
      "outputs": [],
      "source": []
    },
    {
      "cell_type": "markdown",
      "id": "caa90fdb",
      "metadata": {
        "id": "caa90fdb"
      },
      "source": [
        "---"
      ]
    },
    {
      "cell_type": "markdown",
      "id": "460f117d",
      "metadata": {
        "id": "460f117d"
      },
      "source": [
        "#  Operadores"
      ]
    },
    {
      "cell_type": "markdown",
      "id": "b6287d8a",
      "metadata": {
        "id": "b6287d8a"
      },
      "source": [
        "## Aritméticos"
      ]
    },
    {
      "cell_type": "markdown",
      "id": "36332db0",
      "metadata": {
        "id": "36332db0"
      },
      "source": [
        "Estos operadores nos permiten realizar las operaciones arimeticas que conocemos desde el colegio.\n",
        "\n",
        "|Operación|Acción|\n",
        "|---------|------|\n",
        "|Suma `+`| Suma dos valores|\n",
        "|Resta `-`|Resta dos valores|\n",
        "|Multiplicación `*`|Multiplica dos valores|\n",
        "|División `/`|Divide dos valores|\n",
        "|Divisón entera `//`|Divide dos valores y retorna la porción entera de la división|\n",
        "|Resto `%`|Divide dos valores y retorna el resto de la división|\n",
        "|Potencia `**`|Elevana un número a la potencia de otro|"
      ]
    },
    {
      "cell_type": "markdown",
      "id": "4bac31d0",
      "metadata": {
        "id": "4bac31d0"
      },
      "source": [
        "1. Declarada las variables `num_1` y `num_2` y asignale los valores 5 y 2 respectivamente"
      ]
    },
    {
      "cell_type": "code",
      "execution_count": null,
      "id": "f6d33c99",
      "metadata": {
        "id": "f6d33c99"
      },
      "outputs": [],
      "source": []
    },
    {
      "cell_type": "markdown",
      "id": "c484a9cf",
      "metadata": {
        "id": "c484a9cf"
      },
      "source": [
        "2. Realiza la suma de las variables `num_1` y `num_2`"
      ]
    },
    {
      "cell_type": "code",
      "execution_count": null,
      "id": "b13f60c9",
      "metadata": {
        "id": "b13f60c9"
      },
      "outputs": [],
      "source": []
    },
    {
      "cell_type": "markdown",
      "id": "7189e5f7",
      "metadata": {
        "id": "7189e5f7"
      },
      "source": [
        "3. Realiza la resta de las variables `num_1` y `num_2`"
      ]
    },
    {
      "cell_type": "code",
      "execution_count": null,
      "id": "82fe402c",
      "metadata": {
        "id": "82fe402c"
      },
      "outputs": [],
      "source": []
    },
    {
      "cell_type": "markdown",
      "id": "325cf46c",
      "metadata": {
        "id": "325cf46c"
      },
      "source": [
        "4. Realiza la multiplación de las variables `num_1` y `num_2`"
      ]
    },
    {
      "cell_type": "code",
      "execution_count": null,
      "id": "33e7e000",
      "metadata": {
        "id": "33e7e000"
      },
      "outputs": [],
      "source": []
    },
    {
      "cell_type": "markdown",
      "id": "26e8e552",
      "metadata": {
        "id": "26e8e552"
      },
      "source": [
        "5. Realiza la división de las variables `num_1` y `num_2`"
      ]
    },
    {
      "cell_type": "code",
      "execution_count": null,
      "id": "cb458e18",
      "metadata": {
        "id": "cb458e18"
      },
      "outputs": [],
      "source": []
    },
    {
      "cell_type": "markdown",
      "id": "a5197e01",
      "metadata": {
        "id": "a5197e01"
      },
      "source": [
        "6. Realiza la división entera de las variables `num_1` y `num_2`"
      ]
    },
    {
      "cell_type": "code",
      "execution_count": null,
      "id": "d6f9ea85",
      "metadata": {
        "id": "d6f9ea85"
      },
      "outputs": [],
      "source": []
    },
    {
      "cell_type": "markdown",
      "id": "ba569767",
      "metadata": {
        "id": "ba569767"
      },
      "source": [
        "7. Calcula el resto de la división las variables `num_1` y `num_2`"
      ]
    },
    {
      "cell_type": "code",
      "execution_count": null,
      "id": "b7534b3b",
      "metadata": {
        "id": "b7534b3b"
      },
      "outputs": [],
      "source": []
    },
    {
      "cell_type": "markdown",
      "id": "7f3d1cbb",
      "metadata": {
        "id": "7f3d1cbb"
      },
      "source": [
        "8. Calcula la potecia de `num_1` elevado a `num_2`"
      ]
    },
    {
      "cell_type": "code",
      "execution_count": null,
      "id": "5e8113ca",
      "metadata": {
        "id": "5e8113ca"
      },
      "outputs": [],
      "source": []
    },
    {
      "cell_type": "markdown",
      "id": "3f538dd6",
      "metadata": {
        "id": "3f538dd6"
      },
      "source": [
        "### Atención!!!"
      ]
    },
    {
      "cell_type": "markdown",
      "id": "196cfa0c",
      "metadata": {
        "id": "196cfa0c"
      },
      "source": [
        "Pero.. que pasa si intentamos realizar alguna operación aritmética con las variables del tipo `str`"
      ]
    },
    {
      "cell_type": "markdown",
      "id": "a97c5cc8",
      "metadata": {
        "id": "a97c5cc8"
      },
      "source": [
        "1. Crea las siguentes variables `nombre` y `apellido`. Y asignale tus datos personales"
      ]
    },
    {
      "cell_type": "code",
      "execution_count": 22,
      "id": "c18c9749",
      "metadata": {
        "id": "c18c9749"
      },
      "outputs": [],
      "source": []
    },
    {
      "cell_type": "markdown",
      "id": "319625b6",
      "metadata": {
        "id": "319625b6"
      },
      "source": [
        "2. Suma la variables  `nombre` y `apellido`"
      ]
    },
    {
      "cell_type": "code",
      "execution_count": 22,
      "id": "d25ef5bd",
      "metadata": {
        "id": "d25ef5bd",
        "colab": {
          "base_uri": "https://localhost:8080/",
          "height": 35
        },
        "outputId": "8524d8ab-b659-4941-9b66-5dc192131aa1"
      },
      "outputs": [
        {
          "output_type": "execute_result",
          "data": {
            "text/plain": [
              "'AdrianAnzoategui'"
            ],
            "application/vnd.google.colaboratory.intrinsic+json": {
              "type": "string"
            }
          },
          "metadata": {},
          "execution_count": 22
        }
      ],
      "source": []
    },
    {
      "cell_type": "markdown",
      "id": "549bc051",
      "metadata": {
        "id": "549bc051"
      },
      "source": [
        "3. Multiplica la variable  `nombre` entre 2"
      ]
    },
    {
      "cell_type": "code",
      "execution_count": 21,
      "id": "9f10f445",
      "metadata": {
        "id": "9f10f445"
      },
      "outputs": [],
      "source": []
    },
    {
      "cell_type": "markdown",
      "id": "c4030742",
      "metadata": {
        "id": "c4030742"
      },
      "source": [
        "4. Divide la variable `apellido` entre 3"
      ]
    },
    {
      "cell_type": "code",
      "execution_count": 20,
      "id": "bfb371eb",
      "metadata": {
        "id": "bfb371eb"
      },
      "outputs": [],
      "source": []
    },
    {
      "cell_type": "markdown",
      "id": "c9f77a1e",
      "metadata": {
        "id": "c9f77a1e"
      },
      "source": [
        "## Asignación"
      ]
    },
    {
      "cell_type": "markdown",
      "id": "ac9722fe",
      "metadata": {
        "id": "ac9722fe"
      },
      "source": [
        "Los operadores de asignación nos ayudan a asignar valores a nuestras variables y podemos escribir menos código si lo utilizamos correctamente"
      ]
    },
    {
      "cell_type": "markdown",
      "id": "80074840",
      "metadata": {
        "id": "80074840"
      },
      "source": [
        "1. Crea la variable `num` y asignale el valor 5"
      ]
    },
    {
      "cell_type": "code",
      "execution_count": 22,
      "id": "61d01f93",
      "metadata": {
        "id": "61d01f93"
      },
      "outputs": [],
      "source": []
    },
    {
      "cell_type": "markdown",
      "id": "30e7bf52",
      "metadata": {
        "id": "30e7bf52"
      },
      "source": [
        "2.  A la variable `num` sumale el valor de 10"
      ]
    },
    {
      "cell_type": "code",
      "execution_count": 23,
      "id": "07610d14",
      "metadata": {
        "id": "07610d14"
      },
      "outputs": [],
      "source": []
    },
    {
      "cell_type": "markdown",
      "id": "b71beca3",
      "metadata": {
        "id": "b71beca3"
      },
      "source": [
        " 3. A la variable `num` restale el valor de 5"
      ]
    },
    {
      "cell_type": "code",
      "execution_count": 23,
      "id": "970027ed",
      "metadata": {
        "id": "970027ed"
      },
      "outputs": [],
      "source": []
    },
    {
      "cell_type": "markdown",
      "id": "4aac8bd2",
      "metadata": {
        "id": "4aac8bd2"
      },
      "source": [
        "4. A la variable `num` multiplicale el valor de 10"
      ]
    },
    {
      "cell_type": "code",
      "execution_count": 24,
      "id": "dbf031e8",
      "metadata": {
        "id": "dbf031e8"
      },
      "outputs": [],
      "source": []
    },
    {
      "cell_type": "markdown",
      "id": "77eed578",
      "metadata": {
        "id": "77eed578"
      },
      "source": [
        "5. Divide la variable `num` entre 10"
      ]
    },
    {
      "cell_type": "code",
      "execution_count": 25,
      "id": "3be28757",
      "metadata": {
        "id": "3be28757"
      },
      "outputs": [],
      "source": []
    },
    {
      "cell_type": "markdown",
      "id": "c24b7489",
      "metadata": {
        "id": "c24b7489"
      },
      "source": [
        "6. Eleva la variable `num` a 2"
      ]
    },
    {
      "cell_type": "code",
      "execution_count": 25,
      "id": "f93956ca",
      "metadata": {
        "id": "f93956ca"
      },
      "outputs": [],
      "source": []
    },
    {
      "cell_type": "markdown",
      "id": "a7706ef7",
      "metadata": {
        "id": "a7706ef7"
      },
      "source": [
        "7. Calcula el resto de la variable `num` entre 2"
      ]
    },
    {
      "cell_type": "code",
      "execution_count": 25,
      "id": "745688a9",
      "metadata": {
        "id": "745688a9"
      },
      "outputs": [],
      "source": []
    },
    {
      "cell_type": "markdown",
      "id": "c5c48a50",
      "metadata": {
        "id": "c5c48a50"
      },
      "source": [
        "## Comparación"
      ]
    },
    {
      "cell_type": "markdown",
      "id": "af92324d",
      "metadata": {
        "id": "af92324d"
      },
      "source": [
        "Los operadores de comparación nos ayudan a comparar dos variables entre si y nos duelve el valor `True` en caso que se cumpla la comparación\n",
        "\n",
        "|Operación|\n",
        "|---------|\n",
        "|Menor que `<`|\n",
        "|Menor o igual que  `<=`|\n",
        "|Mayor que `>`|\n",
        "|Mayor o igual que `>=`|\n",
        "|Igual que `==`|\n",
        "|Distinto que `!=`|"
      ]
    },
    {
      "cell_type": "markdown",
      "id": "0185cf88",
      "metadata": {
        "id": "0185cf88"
      },
      "source": [
        "1. Declara las variables `num_1`, `num_2` y `num_3` y asignales los valores 5,14 y 7 respectivamente"
      ]
    },
    {
      "cell_type": "code",
      "execution_count": null,
      "id": "3b0ab90e",
      "metadata": {
        "id": "3b0ab90e"
      },
      "outputs": [],
      "source": [
        "num_1, num_2, num_3 = 5, 14, 7"
      ]
    },
    {
      "cell_type": "markdown",
      "id": "306f26b4",
      "metadata": {
        "id": "306f26b4"
      },
      "source": [
        "2. Verifica si `num_1` es menor que `num_2`"
      ]
    },
    {
      "cell_type": "code",
      "execution_count": null,
      "id": "20b39213",
      "metadata": {
        "id": "20b39213"
      },
      "outputs": [],
      "source": [
        "num_1 < num_2"
      ]
    },
    {
      "cell_type": "markdown",
      "id": "55a80178",
      "metadata": {
        "id": "55a80178"
      },
      "source": [
        "3. Verifica si `num_2` es menor o igual que `num_3`"
      ]
    },
    {
      "cell_type": "code",
      "execution_count": null,
      "id": "0ead3c9b",
      "metadata": {
        "id": "0ead3c9b"
      },
      "outputs": [],
      "source": [
        "num_2 <= num_3"
      ]
    },
    {
      "cell_type": "markdown",
      "id": "66660614",
      "metadata": {
        "id": "66660614"
      },
      "source": [
        "4. Verifica si `num_3` es mayor que `num_1`"
      ]
    },
    {
      "cell_type": "code",
      "execution_count": null,
      "id": "ee607c55",
      "metadata": {
        "id": "ee607c55"
      },
      "outputs": [],
      "source": [
        "num_3 > num_1"
      ]
    },
    {
      "cell_type": "markdown",
      "id": "50e38d20",
      "metadata": {
        "id": "50e38d20"
      },
      "source": [
        "5. Verifica si `num_3` igual `num_1`"
      ]
    },
    {
      "cell_type": "code",
      "execution_count": null,
      "id": "bfbd4878",
      "metadata": {
        "id": "bfbd4878"
      },
      "outputs": [],
      "source": [
        "num_3 == num_1"
      ]
    },
    {
      "cell_type": "markdown",
      "id": "c5dc04ac",
      "metadata": {
        "id": "c5dc04ac"
      },
      "source": [
        "6. Verifica si `num_1` es distinto que `num_2`"
      ]
    },
    {
      "cell_type": "code",
      "execution_count": null,
      "id": "960a8447",
      "metadata": {
        "id": "960a8447"
      },
      "outputs": [],
      "source": [
        "num_1 != num_2"
      ]
    },
    {
      "cell_type": "markdown",
      "id": "84f87ab2",
      "metadata": {
        "id": "84f87ab2"
      },
      "source": [
        "## Lógicos"
      ]
    },
    {
      "cell_type": "markdown",
      "id": "a1a28a1c",
      "metadata": {
        "id": "a1a28a1c"
      },
      "source": [
        "Los operadores lógicos nos permiten combinar diferentes operadores de comparación\n",
        "\n",
        "* `and`\n",
        "* `or`"
      ]
    },
    {
      "cell_type": "markdown",
      "id": "3523955c",
      "metadata": {
        "id": "3523955c"
      },
      "source": [
        "1. Dadas las variables `num_1`,`num_2` y `num_3` verifica si `num_1` es menor que `num_2` y si `num_2` es mayor que`num_3`"
      ]
    },
    {
      "cell_type": "code",
      "execution_count": null,
      "id": "098e073a",
      "metadata": {
        "id": "098e073a"
      },
      "outputs": [],
      "source": []
    },
    {
      "cell_type": "markdown",
      "id": "cb4716b3",
      "metadata": {
        "id": "cb4716b3"
      },
      "source": [
        "2. Verifica si `num_3` es mayor que `num_1` o si `num_2` es mayor que `num_1`"
      ]
    },
    {
      "cell_type": "code",
      "execution_count": null,
      "id": "e90fe799",
      "metadata": {
        "id": "e90fe799"
      },
      "outputs": [],
      "source": []
    },
    {
      "cell_type": "markdown",
      "id": "0ed9acba",
      "metadata": {
        "id": "0ed9acba"
      },
      "source": [
        "3. Verifica si `num_3` es mayor que `num_1` y si `num_2` es mayor que `num_1`"
      ]
    },
    {
      "cell_type": "code",
      "execution_count": null,
      "id": "a0dcc9f2",
      "metadata": {
        "id": "a0dcc9f2"
      },
      "outputs": [],
      "source": []
    },
    {
      "cell_type": "markdown",
      "id": "8dffd4aa",
      "metadata": {
        "id": "8dffd4aa"
      },
      "source": [
        "## Pertenecia"
      ]
    },
    {
      "cell_type": "markdown",
      "id": "d348efdd",
      "metadata": {
        "id": "d348efdd"
      },
      "source": [
        "Los operadores de pertenencia nos ayudan a verificar si un valor se encuentra dentro de un iterable"
      ]
    },
    {
      "cell_type": "code",
      "execution_count": null,
      "id": "177de7d3",
      "metadata": {
        "id": "177de7d3"
      },
      "outputs": [],
      "source": [
        "texto='Estoy estudiando Python'"
      ]
    },
    {
      "cell_type": "markdown",
      "id": "910e2137",
      "metadata": {
        "id": "910e2137"
      },
      "source": [
        "1. Verifica si la palabra `Python` se encuentra en la variable `texto`"
      ]
    },
    {
      "cell_type": "code",
      "execution_count": null,
      "id": "a7ad76b6",
      "metadata": {
        "id": "a7ad76b6"
      },
      "outputs": [],
      "source": [
        "'Python' in texto"
      ]
    },
    {
      "cell_type": "markdown",
      "id": "f865dbd4",
      "metadata": {
        "id": "f865dbd4"
      },
      "source": [
        "2. Verifica si la palabra `python` se encuentra en la variable `texto`"
      ]
    },
    {
      "cell_type": "code",
      "execution_count": null,
      "id": "29a33638",
      "metadata": {
        "id": "29a33638"
      },
      "outputs": [],
      "source": [
        "'python' in texto"
      ]
    },
    {
      "cell_type": "markdown",
      "id": "caefc971",
      "metadata": {
        "id": "caefc971"
      },
      "source": [
        "---"
      ]
    }
  ],
  "metadata": {
    "kernelspec": {
      "display_name": "Python 3 (ipykernel)",
      "language": "python",
      "name": "python3"
    },
    "language_info": {
      "codemirror_mode": {
        "name": "ipython",
        "version": 3
      },
      "file_extension": ".py",
      "mimetype": "text/x-python",
      "name": "python",
      "nbconvert_exporter": "python",
      "pygments_lexer": "ipython3",
      "version": "3.9.7"
    },
    "colab": {
      "provenance": []
    }
  },
  "nbformat": 4,
  "nbformat_minor": 5
}